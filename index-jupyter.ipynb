{
 "cells": [
  {
   "cell_type": "code",
   "execution_count": 1,
   "id": "5c1687c3",
   "metadata": {
    "tags": []
   },
   "outputs": [],
   "source": [
    "Hello, I'm Matias Agelvis"
   ]
  },
  {
   "cell_type": "code",
   "execution_count": 2,
   "id": "a1a61efd",
   "metadata": {},
   "outputs": [],
   "source": [
    "I'm a physicist, but I consider myself more of a Computer Scientist."
   ]
  },
  {
   "cell_type": "code",
   "execution_count": 3,
   "id": "b31bfbc2",
   "metadata": {},
   "outputs": [],
   "source": [
    "I am interested in Data Science, Machine Learning, and Computer Science."
   ]
  },
  {
   "cell_type": "code",
   "execution_count": 4,
   "id": "a7d94ae8",
   "metadata": {},
   "outputs": [],
   "source": [
    "I dare to say that if it can be made with a computer, I can make it."
   ]
  },
  {
   "cell_type": "code",
   "execution_count": 5,
   "id": "2bf5fef4",
   "metadata": {
    "tags": []
   },
   "outputs": [],
   "source": [
    "and yes, I made part of this website with jupyter"
   ]
  },
  {
   "cell_type": "code",
   "execution_count": 6,
   "id": "4d408efa",
   "metadata": {
    "tags": []
   },
   "outputs": [],
   "source": [
    "I think it looks kind of funny"
   ]
  },
  {
   "cell_type": "code",
   "execution_count": null,
   "id": "93ec1f6a",
   "metadata": {},
   "outputs": [],
   "source": []
  }
 ],
 "metadata": {
  "kernelspec": {
   "display_name": "Python 3",
   "language": "python",
   "name": "python3"
  },
  "language_info": {
   "codemirror_mode": {
    "name": "ipython",
    "version": 3
   },
   "file_extension": ".py",
   "mimetype": "text/x-python",
   "name": "python",
   "nbconvert_exporter": "python",
   "pygments_lexer": "ipython3",
   "version": "3.8.12"
  }
 },
 "nbformat": 4,
 "nbformat_minor": 5
}
